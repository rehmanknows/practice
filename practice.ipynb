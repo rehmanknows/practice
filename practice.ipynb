{
 "cells": [
  {
   "cell_type": "code",
   "execution_count": 1,
   "id": "eee2266b",
   "metadata": {},
   "outputs": [
    {
     "name": "stdout",
     "output_type": "stream",
     "text": [
      "Enter file:result\n"
     ]
    },
    {
     "ename": "FileNotFoundError",
     "evalue": "[Errno 2] No such file or directory: 'result'",
     "output_type": "error",
     "traceback": [
      "\u001b[1;31m---------------------------------------------------------------------------\u001b[0m",
      "\u001b[1;31mFileNotFoundError\u001b[0m                         Traceback (most recent call last)",
      "Cell \u001b[1;32mIn[1], line 2\u001b[0m\n\u001b[0;32m      1\u001b[0m name \u001b[38;5;241m=\u001b[39m \u001b[38;5;28minput\u001b[39m(\u001b[38;5;124m'\u001b[39m\u001b[38;5;124mEnter file:\u001b[39m\u001b[38;5;124m'\u001b[39m)\n\u001b[1;32m----> 2\u001b[0m handle \u001b[38;5;241m=\u001b[39m \u001b[38;5;28mopen\u001b[39m(name)\n",
      "File \u001b[1;32m~\\anaconda3\\Lib\\site-packages\\IPython\\core\\interactiveshell.py:284\u001b[0m, in \u001b[0;36m_modified_open\u001b[1;34m(file, *args, **kwargs)\u001b[0m\n\u001b[0;32m    277\u001b[0m \u001b[38;5;28;01mif\u001b[39;00m file \u001b[38;5;129;01min\u001b[39;00m {\u001b[38;5;241m0\u001b[39m, \u001b[38;5;241m1\u001b[39m, \u001b[38;5;241m2\u001b[39m}:\n\u001b[0;32m    278\u001b[0m     \u001b[38;5;28;01mraise\u001b[39;00m \u001b[38;5;167;01mValueError\u001b[39;00m(\n\u001b[0;32m    279\u001b[0m         \u001b[38;5;124mf\u001b[39m\u001b[38;5;124m\"\u001b[39m\u001b[38;5;124mIPython won\u001b[39m\u001b[38;5;124m'\u001b[39m\u001b[38;5;124mt let you open fd=\u001b[39m\u001b[38;5;132;01m{\u001b[39;00mfile\u001b[38;5;132;01m}\u001b[39;00m\u001b[38;5;124m by default \u001b[39m\u001b[38;5;124m\"\u001b[39m\n\u001b[0;32m    280\u001b[0m         \u001b[38;5;124m\"\u001b[39m\u001b[38;5;124mas it is likely to crash IPython. If you know what you are doing, \u001b[39m\u001b[38;5;124m\"\u001b[39m\n\u001b[0;32m    281\u001b[0m         \u001b[38;5;124m\"\u001b[39m\u001b[38;5;124myou can use builtins\u001b[39m\u001b[38;5;124m'\u001b[39m\u001b[38;5;124m open.\u001b[39m\u001b[38;5;124m\"\u001b[39m\n\u001b[0;32m    282\u001b[0m     )\n\u001b[1;32m--> 284\u001b[0m \u001b[38;5;28;01mreturn\u001b[39;00m io_open(file, \u001b[38;5;241m*\u001b[39margs, \u001b[38;5;241m*\u001b[39m\u001b[38;5;241m*\u001b[39mkwargs)\n",
      "\u001b[1;31mFileNotFoundError\u001b[0m: [Errno 2] No such file or directory: 'result'"
     ]
    }
   ],
   "source": [
    "name = input('Enter file:')\n",
    "handle = open(name)\n"
   ]
  },
  {
   "cell_type": "code",
   "execution_count": 2,
   "id": "f4730c65",
   "metadata": {},
   "outputs": [
    {
     "name": "stdout",
     "output_type": "stream",
     "text": [
      "4\n"
     ]
    }
   ],
   "source": [
    "x=2\n",
    "x=x+2\n",
    "print(x)"
   ]
  },
  {
   "cell_type": "code",
   "execution_count": 3,
   "id": "8d180ec2",
   "metadata": {},
   "outputs": [
    {
     "name": "stdout",
     "output_type": "stream",
     "text": [
      "{'Money': 200, 'Candies': 10}\n"
     ]
    }
   ],
   "source": [
    "purse = dict()\n",
    "purse['Money']=200\n",
    "purse['Candies']=10\n",
    "print(purse)"
   ]
  },
  {
   "cell_type": "code",
   "execution_count": 4,
   "id": "15a4aa90",
   "metadata": {},
   "outputs": [
    {
     "name": "stdout",
     "output_type": "stream",
     "text": [
      "{'age': 21, 'course': 182}\n",
      "{'age': 23, 'course': 182}\n"
     ]
    }
   ],
   "source": [
    "ddd = dict()\n",
    "ddd['age'] = 21\n",
    "ddd['course'] = 182\n",
    "print(ddd)\n",
    "ddd['age'] = 23\n",
    "print(ddd)"
   ]
  },
  {
   "cell_type": "code",
   "execution_count": 5,
   "id": "b72241e8",
   "metadata": {},
   "outputs": [
    {
     "ename": "IndentationError",
     "evalue": "expected an indented block after 'for' statement on line 3 (599774879.py, line 4)",
     "output_type": "error",
     "traceback": [
      "\u001b[1;36m  Cell \u001b[1;32mIn[5], line 4\u001b[1;36m\u001b[0m\n\u001b[1;33m    if name not in counts:\u001b[0m\n\u001b[1;37m    ^\u001b[0m\n\u001b[1;31mIndentationError\u001b[0m\u001b[1;31m:\u001b[0m expected an indented block after 'for' statement on line 3\n"
     ]
    }
   ],
   "source": [
    "counts = dict()\n",
    "names = ['usman', 'ahsan', 'rehman', 'rehman', 'usman']\n",
    "for name in names :\n",
    "if name not in counts: \n",
    "counts[name] = 1\n",
    "else :\n",
    "counts[name] = counts[name] + 1\n",
    "print(counts)"
   ]
  },
  {
   "cell_type": "code",
   "execution_count": 6,
   "id": "e449eefa",
   "metadata": {},
   "outputs": [
    {
     "ename": "IndentationError",
     "evalue": "expected an indented block after 'for' statement on line 3 (3553833541.py, line 4)",
     "output_type": "error",
     "traceback": [
      "\u001b[1;36m  Cell \u001b[1;32mIn[6], line 4\u001b[1;36m\u001b[0m\n\u001b[1;33m    if name not in counts:\u001b[0m\n\u001b[1;37m    ^\u001b[0m\n\u001b[1;31mIndentationError\u001b[0m\u001b[1;31m:\u001b[0m expected an indented block after 'for' statement on line 3\n"
     ]
    }
   ],
   "source": [
    "counts = dict()\n",
    "names = ['csev', 'cwen', 'csev', 'zqian', 'cwen']\n",
    "for name in names :\n",
    "if name not in counts: \n",
    "counts[name] = 1\n",
    "else :\n",
    "counts[name] = counts[name] + 1\n",
    "print(counts)"
   ]
  },
  {
   "cell_type": "code",
   "execution_count": 8,
   "id": "163cbb1b",
   "metadata": {},
   "outputs": [
    {
     "ename": "IndentationError",
     "evalue": "unindent does not match any outer indentation level (<tokenize>, line 6)",
     "output_type": "error",
     "traceback": [
      "\u001b[1;36m  File \u001b[1;32m<tokenize>:6\u001b[1;36m\u001b[0m\n\u001b[1;33m    else :\u001b[0m\n\u001b[1;37m    ^\u001b[0m\n\u001b[1;31mIndentationError\u001b[0m\u001b[1;31m:\u001b[0m unindent does not match any outer indentation level\n"
     ]
    }
   ],
   "source": [
    "counts = dict()\n",
    "names = ['csev', 'cwen', 'csev', 'zqian', 'cwen']\n",
    "for name in names :\n",
    "      if name not in counts: \n",
    "        counts[name] = 1\n",
    "    else :\n",
    "        counts[name] = counts[name] + 1\n",
    "print(counts)"
   ]
  },
  {
   "cell_type": "code",
   "execution_count": 11,
   "id": "eea91b87",
   "metadata": {},
   "outputs": [
    {
     "name": "stdout",
     "output_type": "stream",
     "text": [
      "{'rehman': 2, 'usman': 2, 'ali': 1}\n"
     ]
    }
   ],
   "source": [
    "fellows = dict()\n",
    "names = ['rehman','usman','ali','rehman','usman']\n",
    "for name in names:\n",
    "    if name not in fellows: \n",
    "        fellows[name] = 1\n",
    "    else :\n",
    "        fellows[name] = fellows[name] + 1\n",
    "print(fellows)"
   ]
  },
  {
   "cell_type": "code",
   "execution_count": 13,
   "id": "2cf86b41",
   "metadata": {},
   "outputs": [
    {
     "name": "stdout",
     "output_type": "stream",
     "text": [
      "Enter a line of text:\n",
      "The\n",
      "Words: ['The']\n",
      "Counting...\n",
      "Counts {'The': 1}\n"
     ]
    }
   ],
   "source": [
    "counts = dict()\n",
    "print('Enter a line of text:')\n",
    "line = input('')\n",
    "words = line.split()\n",
    "print('Words:', words)\n",
    "print('Counting...')\n",
    "for word in words:\n",
    "    counts[word] = counts.get(word,0) + 1\n",
    "print('Counts', counts)"
   ]
  },
  {
   "cell_type": "code",
   "execution_count": 14,
   "id": "95267253",
   "metadata": {},
   "outputs": [
    {
     "name": "stdout",
     "output_type": "stream",
     "text": [
      "Enter a line of text:\n",
      "Writing programs (or programming) is a very creative and rewarding activity. You can write  programs for many reasons ranging from making your living to solving a difficult data analysis  problem to having fun to helping someone else solve a problem. This book assumes that  everyone needs to know how to program and that once you know how to program, you will figure  out what you want to do with your newfound skills. We are surrounded in our daily lives with computers ranging from laptops to cell phones. We  can think of these computers as our “personal assistants” who can take care of many things on  our behalf. The hardware in our current-day computers is essentially built to continuously ask us  the question, “What would you like me to do next?” Our computers are fast and have vast amounts of memory and could be very helpful to us if we  only knew the language to speak to explain to the computer what we would like it to do next. If  we knew this language we could tell the computer to do tasks on our behalf that were repetitive.  Interestingly, the kinds of things computers can do best are often the kinds of things that we  humans find boring and mind-numbing.\n",
      "Words: ['Writing', 'programs', '(or', 'programming)', 'is', 'a', 'very', 'creative', 'and', 'rewarding', 'activity.', 'You', 'can', 'write', 'programs', 'for', 'many', 'reasons', 'ranging', 'from', 'making', 'your', 'living', 'to', 'solving', 'a', 'difficult', 'data', 'analysis', 'problem', 'to', 'having', 'fun', 'to', 'helping', 'someone', 'else', 'solve', 'a', 'problem.', 'This', 'book', 'assumes', 'that', 'everyone', 'needs', 'to', 'know', 'how', 'to', 'program', 'and', 'that', 'once', 'you', 'know', 'how', 'to', 'program,', 'you', 'will', 'figure', 'out', 'what', 'you', 'want', 'to', 'do', 'with', 'your', 'newfound', 'skills.', 'We', 'are', 'surrounded', 'in', 'our', 'daily', 'lives', 'with', 'computers', 'ranging', 'from', 'laptops', 'to', 'cell', 'phones.', 'We', 'can', 'think', 'of', 'these', 'computers', 'as', 'our', '“personal', 'assistants”', 'who', 'can', 'take', 'care', 'of', 'many', 'things', 'on', 'our', 'behalf.', 'The', 'hardware', 'in', 'our', 'current-day', 'computers', 'is', 'essentially', 'built', 'to', 'continuously', 'ask', 'us', 'the', 'question,', '“What', 'would', 'you', 'like', 'me', 'to', 'do', 'next?”', 'Our', 'computers', 'are', 'fast', 'and', 'have', 'vast', 'amounts', 'of', 'memory', 'and', 'could', 'be', 'very', 'helpful', 'to', 'us', 'if', 'we', 'only', 'knew', 'the', 'language', 'to', 'speak', 'to', 'explain', 'to', 'the', 'computer', 'what', 'we', 'would', 'like', 'it', 'to', 'do', 'next.', 'If', 'we', 'knew', 'this', 'language', 'we', 'could', 'tell', 'the', 'computer', 'to', 'do', 'tasks', 'on', 'our', 'behalf', 'that', 'were', 'repetitive.', 'Interestingly,', 'the', 'kinds', 'of', 'things', 'computers', 'can', 'do', 'best', 'are', 'often', 'the', 'kinds', 'of', 'things', 'that', 'we', 'humans', 'find', 'boring', 'and', 'mind-numbing.']\n",
      "Counting...\n",
      "Counts {'Writing': 1, 'programs': 2, '(or': 1, 'programming)': 1, 'is': 2, 'a': 3, 'very': 2, 'creative': 1, 'and': 5, 'rewarding': 1, 'activity.': 1, 'You': 1, 'can': 4, 'write': 1, 'for': 1, 'many': 2, 'reasons': 1, 'ranging': 2, 'from': 2, 'making': 1, 'your': 2, 'living': 1, 'to': 16, 'solving': 1, 'difficult': 1, 'data': 1, 'analysis': 1, 'problem': 1, 'having': 1, 'fun': 1, 'helping': 1, 'someone': 1, 'else': 1, 'solve': 1, 'problem.': 1, 'This': 1, 'book': 1, 'assumes': 1, 'that': 4, 'everyone': 1, 'needs': 1, 'know': 2, 'how': 2, 'program': 1, 'once': 1, 'you': 4, 'program,': 1, 'will': 1, 'figure': 1, 'out': 1, 'what': 2, 'want': 1, 'do': 5, 'with': 2, 'newfound': 1, 'skills.': 1, 'We': 2, 'are': 3, 'surrounded': 1, 'in': 2, 'our': 5, 'daily': 1, 'lives': 1, 'computers': 5, 'laptops': 1, 'cell': 1, 'phones.': 1, 'think': 1, 'of': 5, 'these': 1, 'as': 1, '“personal': 1, 'assistants”': 1, 'who': 1, 'take': 1, 'care': 1, 'things': 3, 'on': 2, 'behalf.': 1, 'The': 1, 'hardware': 1, 'current-day': 1, 'essentially': 1, 'built': 1, 'continuously': 1, 'ask': 1, 'us': 2, 'the': 6, 'question,': 1, '“What': 1, 'would': 2, 'like': 2, 'me': 1, 'next?”': 1, 'Our': 1, 'fast': 1, 'have': 1, 'vast': 1, 'amounts': 1, 'memory': 1, 'could': 2, 'be': 1, 'helpful': 1, 'if': 1, 'we': 5, 'only': 1, 'knew': 2, 'language': 2, 'speak': 1, 'explain': 1, 'computer': 2, 'it': 1, 'next.': 1, 'If': 1, 'this': 1, 'tell': 1, 'tasks': 1, 'behalf': 1, 'were': 1, 'repetitive.': 1, 'Interestingly,': 1, 'kinds': 2, 'best': 1, 'often': 1, 'humans': 1, 'find': 1, 'boring': 1, 'mind-numbing.': 1}\n"
     ]
    }
   ],
   "source": [
    "counts = dict()\n",
    "print('Enter a line of text:')\n",
    "line = input('')\n",
    "words = line.split()\n",
    "print('Words:', words)\n",
    "print('Counting...')\n",
    "for word in words:\n",
    "    counts[word] = counts.get(word,0) + 1\n",
    "print('Counts', counts)\n"
   ]
  },
  {
   "cell_type": "code",
   "execution_count": 15,
   "id": "a9d498b7",
   "metadata": {},
   "outputs": [
    {
     "name": "stdout",
     "output_type": "stream",
     "text": [
      "Enter a line of text:\n",
      "Writing programs (or programming) is a very creative and rewarding activity. You can write  programs for many reasons ranging from making your living to solving a difficult data analysis  problem to having fun to helping someone else solve a problem. This book assumes that  everyone needs to know how to program and that once you know how to program, you will figure  out what you want to do with your newfound skills. We are surrounded in our daily lives with computers ranging from laptops to cell phones. We  can think of these computers as our “personal assistants” who can take care of many things on  our behalf. The hardware in our current-day computers is essentially built to continuously ask us  the question, “What would you like me to do next?” Our computers are fast and have vast amounts of memory and could be very helpful to us if we  only knew the language to speak to explain to the computer what we would like it to do next. If  we knew this language we could tell the computer to do tasks on our behalf that were repetitive.  Interestingly, the kinds of things computers can do best are often the kinds of things that we  humans find boring and mind-numbing.\n",
      "Words: ['Writing', 'programs', '(or', 'programming)', 'is', 'a', 'very', 'creative', 'and', 'rewarding', 'activity.', 'You', 'can', 'write', 'programs', 'for', 'many', 'reasons', 'ranging', 'from', 'making', 'your', 'living', 'to', 'solving', 'a', 'difficult', 'data', 'analysis', 'problem', 'to', 'having', 'fun', 'to', 'helping', 'someone', 'else', 'solve', 'a', 'problem.', 'This', 'book', 'assumes', 'that', 'everyone', 'needs', 'to', 'know', 'how', 'to', 'program', 'and', 'that', 'once', 'you', 'know', 'how', 'to', 'program,', 'you', 'will', 'figure', 'out', 'what', 'you', 'want', 'to', 'do', 'with', 'your', 'newfound', 'skills.', 'We', 'are', 'surrounded', 'in', 'our', 'daily', 'lives', 'with', 'computers', 'ranging', 'from', 'laptops', 'to', 'cell', 'phones.', 'We', 'can', 'think', 'of', 'these', 'computers', 'as', 'our', '“personal', 'assistants”', 'who', 'can', 'take', 'care', 'of', 'many', 'things', 'on', 'our', 'behalf.', 'The', 'hardware', 'in', 'our', 'current-day', 'computers', 'is', 'essentially', 'built', 'to', 'continuously', 'ask', 'us', 'the', 'question,', '“What', 'would', 'you', 'like', 'me', 'to', 'do', 'next?”', 'Our', 'computers', 'are', 'fast', 'and', 'have', 'vast', 'amounts', 'of', 'memory', 'and', 'could', 'be', 'very', 'helpful', 'to', 'us', 'if', 'we', 'only', 'knew', 'the', 'language', 'to', 'speak', 'to', 'explain', 'to', 'the', 'computer', 'what', 'we', 'would', 'like', 'it', 'to', 'do', 'next.', 'If', 'we', 'knew', 'this', 'language', 'we', 'could', 'tell', 'the', 'computer', 'to', 'do', 'tasks', 'on', 'our', 'behalf', 'that', 'were', 'repetitive.', 'Interestingly,', 'the', 'kinds', 'of', 'things', 'computers', 'can', 'do', 'best', 'are', 'often', 'the', 'kinds', 'of', 'things', 'that', 'we', 'humans', 'find', 'boring', 'and', 'mind-numbing.']\n",
      "Counting...\n",
      "Counts {'Writing': 1, 'programs': 2, '(or': 1, 'programming)': 1, 'is': 2, 'a': 3, 'very': 2, 'creative': 1, 'and': 5, 'rewarding': 1, 'activity.': 1, 'You': 1, 'can': 4, 'write': 1, 'for': 1, 'many': 2, 'reasons': 1, 'ranging': 2, 'from': 2, 'making': 1, 'your': 2, 'living': 1, 'to': 16, 'solving': 1, 'difficult': 1, 'data': 1, 'analysis': 1, 'problem': 1, 'having': 1, 'fun': 1, 'helping': 1, 'someone': 1, 'else': 1, 'solve': 1, 'problem.': 1, 'This': 1, 'book': 1, 'assumes': 1, 'that': 4, 'everyone': 1, 'needs': 1, 'know': 2, 'how': 2, 'program': 1, 'once': 1, 'you': 4, 'program,': 1, 'will': 1, 'figure': 1, 'out': 1, 'what': 2, 'want': 1, 'do': 5, 'with': 2, 'newfound': 1, 'skills.': 1, 'We': 2, 'are': 3, 'surrounded': 1, 'in': 2, 'our': 5, 'daily': 1, 'lives': 1, 'computers': 5, 'laptops': 1, 'cell': 1, 'phones.': 1, 'think': 1, 'of': 5, 'these': 1, 'as': 1, '“personal': 1, 'assistants”': 1, 'who': 1, 'take': 1, 'care': 1, 'things': 3, 'on': 2, 'behalf.': 1, 'The': 1, 'hardware': 1, 'current-day': 1, 'essentially': 1, 'built': 1, 'continuously': 1, 'ask': 1, 'us': 2, 'the': 6, 'question,': 1, '“What': 1, 'would': 2, 'like': 2, 'me': 1, 'next?”': 1, 'Our': 1, 'fast': 1, 'have': 1, 'vast': 1, 'amounts': 1, 'memory': 1, 'could': 2, 'be': 1, 'helpful': 1, 'if': 1, 'we': 5, 'only': 1, 'knew': 2, 'language': 2, 'speak': 1, 'explain': 1, 'computer': 2, 'it': 1, 'next.': 1, 'If': 1, 'this': 1, 'tell': 1, 'tasks': 1, 'behalf': 1, 'were': 1, 'repetitive.': 1, 'Interestingly,': 1, 'kinds': 2, 'best': 1, 'often': 1, 'humans': 1, 'find': 1, 'boring': 1, 'mind-numbing.': 1}\n"
     ]
    }
   ],
   "source": [
    "counts = dict()\n",
    "print('Enter a line of text:')\n",
    "line = input('')\n",
    "words = line.split()\n",
    "print('Words:', words)\n",
    "print('Counting...')\n",
    "for word in words:\n",
    "    counts[word] = counts.get(word,0) + 1\n",
    "print('Counts', counts)"
   ]
  },
  {
   "cell_type": "code",
   "execution_count": 16,
   "id": "eb2d4a2e",
   "metadata": {},
   "outputs": [
    {
     "name": "stdout",
     "output_type": "stream",
     "text": [
      "Enter a line of text:\n",
      "Writing programs (or programming) is a very creative and rewarding activity. You can write  programs for many reasons ranging from making your living to solving a difficult data analysis  problem to having fun to helping someone else solve a problem. This book assumes that  everyone needs to know how to program and that once you know how to program, you will figure  out what you want to do with your newfound skills. We are surrounded in our daily lives with computers ranging from laptops to cell phones. We  can think of these computers as our “personal assistants” who can take care of many things on  our behalf. The hardware in our current-day computers is essentially built to continuously ask us  the question, “What would you like me to do next?” Our computers are fast and have vast amounts of memory and could be very helpful to us if we  only knew the language to speak to explain to the computer what we would like it to do next. If  we knew this language we could tell the computer to do tasks on our behalf that were repetitive.  Interestingly, the kinds of things computers can do best are often the kinds of things that we  humans find boring and mind-numbing.\n",
      "Words: ['Writing', 'programs', '(or', 'programming)', 'is', 'a', 'very', 'creative', 'and', 'rewarding', 'activity.', 'You', 'can', 'write', 'programs', 'for', 'many', 'reasons', 'ranging', 'from', 'making', 'your', 'living', 'to', 'solving', 'a', 'difficult', 'data', 'analysis', 'problem', 'to', 'having', 'fun', 'to', 'helping', 'someone', 'else', 'solve', 'a', 'problem.', 'This', 'book', 'assumes', 'that', 'everyone', 'needs', 'to', 'know', 'how', 'to', 'program', 'and', 'that', 'once', 'you', 'know', 'how', 'to', 'program,', 'you', 'will', 'figure', 'out', 'what', 'you', 'want', 'to', 'do', 'with', 'your', 'newfound', 'skills.', 'We', 'are', 'surrounded', 'in', 'our', 'daily', 'lives', 'with', 'computers', 'ranging', 'from', 'laptops', 'to', 'cell', 'phones.', 'We', 'can', 'think', 'of', 'these', 'computers', 'as', 'our', '“personal', 'assistants”', 'who', 'can', 'take', 'care', 'of', 'many', 'things', 'on', 'our', 'behalf.', 'The', 'hardware', 'in', 'our', 'current-day', 'computers', 'is', 'essentially', 'built', 'to', 'continuously', 'ask', 'us', 'the', 'question,', '“What', 'would', 'you', 'like', 'me', 'to', 'do', 'next?”', 'Our', 'computers', 'are', 'fast', 'and', 'have', 'vast', 'amounts', 'of', 'memory', 'and', 'could', 'be', 'very', 'helpful', 'to', 'us', 'if', 'we', 'only', 'knew', 'the', 'language', 'to', 'speak', 'to', 'explain', 'to', 'the', 'computer', 'what', 'we', 'would', 'like', 'it', 'to', 'do', 'next.', 'If', 'we', 'knew', 'this', 'language', 'we', 'could', 'tell', 'the', 'computer', 'to', 'do', 'tasks', 'on', 'our', 'behalf', 'that', 'were', 'repetitive.', 'Interestingly,', 'the', 'kinds', 'of', 'things', 'computers', 'can', 'do', 'best', 'are', 'often', 'the', 'kinds', 'of', 'things', 'that', 'we', 'humans', 'find', 'boring', 'and', 'mind-numbing.']\n",
      "Counting...\n",
      "Counts {'Writing': 1, 'programs': 2, '(or': 1, 'programming)': 1, 'is': 2, 'a': 3, 'very': 2, 'creative': 1, 'and': 5, 'rewarding': 1, 'activity.': 1, 'You': 1, 'can': 4, 'write': 1, 'for': 1, 'many': 2, 'reasons': 1, 'ranging': 2, 'from': 2, 'making': 1, 'your': 2, 'living': 1, 'to': 16, 'solving': 1, 'difficult': 1, 'data': 1, 'analysis': 1, 'problem': 1, 'having': 1, 'fun': 1, 'helping': 1, 'someone': 1, 'else': 1, 'solve': 1, 'problem.': 1, 'This': 1, 'book': 1, 'assumes': 1, 'that': 4, 'everyone': 1, 'needs': 1, 'know': 2, 'how': 2, 'program': 1, 'once': 1, 'you': 4, 'program,': 1, 'will': 1, 'figure': 1, 'out': 1, 'what': 2, 'want': 1, 'do': 5, 'with': 2, 'newfound': 1, 'skills.': 1, 'We': 2, 'are': 3, 'surrounded': 1, 'in': 2, 'our': 5, 'daily': 1, 'lives': 1, 'computers': 5, 'laptops': 1, 'cell': 1, 'phones.': 1, 'think': 1, 'of': 5, 'these': 1, 'as': 1, '“personal': 1, 'assistants”': 1, 'who': 1, 'take': 1, 'care': 1, 'things': 3, 'on': 2, 'behalf.': 1, 'The': 1, 'hardware': 1, 'current-day': 1, 'essentially': 1, 'built': 1, 'continuously': 1, 'ask': 1, 'us': 2, 'the': 6, 'question,': 1, '“What': 1, 'would': 2, 'like': 2, 'me': 1, 'next?”': 1, 'Our': 1, 'fast': 1, 'have': 1, 'vast': 1, 'amounts': 1, 'memory': 1, 'could': 2, 'be': 1, 'helpful': 1, 'if': 1, 'we': 5, 'only': 1, 'knew': 2, 'language': 2, 'speak': 1, 'explain': 1, 'computer': 2, 'it': 1, 'next.': 1, 'If': 1, 'this': 1, 'tell': 1, 'tasks': 1, 'behalf': 1, 'were': 1, 'repetitive.': 1, 'Interestingly,': 1, 'kinds': 2, 'best': 1, 'often': 1, 'humans': 1, 'find': 1, 'boring': 1, 'mind-numbing.': 1}\n"
     ]
    }
   ],
   "source": [
    "counts = dict()\n",
    "print('Enter a line of text:')\n",
    "line = input('')\n",
    "words = line.split()\n",
    "print('Words:', words)\n",
    "print('Counting...')\n",
    "for word in words:\n",
    "    counts[word] = counts.get(word,0) + 1\n",
    "print('Counts', counts)\n"
   ]
  },
  {
   "cell_type": "code",
   "execution_count": null,
   "id": "933b98af",
   "metadata": {},
   "outputs": [
    {
     "name": "stdout",
     "output_type": "stream",
     "text": [
      "Enter a line of text:\n"
     ]
    }
   ],
   "source": [
    "count = dict()\n",
    "print('Enter a line of text:')\n",
    "line = input('')\n",
    "words = line.split()\n",
    "print('Words are' , words)\n",
    "print('There counting are:')\n",
    "for word in words:\n",
    "    count[word] = count.get(word,1) \n",
    "print ('Counts',count)"
   ]
  },
  {
   "cell_type": "code",
   "execution_count": null,
   "id": "ee5194cb",
   "metadata": {},
   "outputs": [],
   "source": [
    "name = input('Enter file:')\n",
    "handle = open(name)\n",
    "counts = dict()\n",
    "for line in handle:\n",
    "    words = line.split()\n",
    "for word in words:\n",
    "    counts[word] = counts.get(word,0) + 1\n",
    "bigcount = None\n",
    "bigword = None\n",
    "for word,count in counts.items():\n",
    "    if bigcount is None or count > bigcount:\n",
    "bigword = word\n",
    "bigcount = count\n",
    "print(bigword, bigcount)\n"
   ]
  },
  {
   "cell_type": "code",
   "execution_count": null,
   "id": "d8c68cf0",
   "metadata": {},
   "outputs": [],
   "source": [
    "name = input(xyz.txt)\n",
    "handle = open(name)\n",
    "counts = dict()\n",
    "for line in handle:\n",
    "    words = line.split()\n",
    "for word in words:\n",
    "    counts[word] = counts.get(word,0) + 1\n",
    "bigcount = None\n",
    "bigword = None\n",
    "for word,count in counts.items():\n",
    "    if bigcount is None or count > bigcount:\n",
    "bigword = word\n",
    "bigcount = count\n",
    "print(bigword, bigcount)"
   ]
  },
  {
   "cell_type": "code",
   "execution_count": null,
   "id": "5503e797",
   "metadata": {},
   "outputs": [],
   "source": [
    "name = input('Enter file:')\n",
    "handle = open(name)\n",
    "counts = dict()\n",
    "for line in handle:\n",
    "words = line.split()\n",
    "for word in words:\n",
    "counts[word] = counts.get(word,0) + 1\n",
    "bigcount = None\n",
    "bigword = None\n",
    "for word,count in counts.items():\n",
    "if bigcount is None or count > bigcount:\n",
    "bigword = word\n",
    "bigcount = count\n",
    "print(bigword, bigcount)"
   ]
  },
  {
   "cell_type": "code",
   "execution_count": null,
   "id": "d02586af",
   "metadata": {},
   "outputs": [],
   "source": []
  },
  {
   "cell_type": "code",
   "execution_count": null,
   "id": "f0ede94a",
   "metadata": {},
   "outputs": [],
   "source": []
  },
  {
   "cell_type": "code",
   "execution_count": null,
   "id": "106f9ba1",
   "metadata": {},
   "outputs": [],
   "source": []
  },
  {
   "cell_type": "code",
   "execution_count": null,
   "id": "45e96b2f",
   "metadata": {},
   "outputs": [],
   "source": []
  },
  {
   "cell_type": "code",
   "execution_count": null,
   "id": "173c776e",
   "metadata": {},
   "outputs": [],
   "source": []
  }
 ],
 "metadata": {
  "kernelspec": {
   "display_name": "Python 3 (ipykernel)",
   "language": "python",
   "name": "python3"
  },
  "language_info": {
   "codemirror_mode": {
    "name": "ipython",
    "version": 3
   },
   "file_extension": ".py",
   "mimetype": "text/x-python",
   "name": "python",
   "nbconvert_exporter": "python",
   "pygments_lexer": "ipython3",
   "version": "3.11.4"
  }
 },
 "nbformat": 4,
 "nbformat_minor": 5
}
